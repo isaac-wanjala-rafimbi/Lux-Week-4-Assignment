{
 "cells": [
  {
   "cell_type": "markdown",
   "id": "344a63a8-f49f-4561-8e42-db0f8cd4b03b",
   "metadata": {},
   "source": [
    "# Week 4 Assignment"
   ]
  },
  {
   "cell_type": "markdown",
   "id": "98b5fa19-2af5-4c96-abe7-f283abdc923b",
   "metadata": {},
   "source": [
    "## Write a Python program to check whether a string is a palindrome or not using a stack."
   ]
  },
  {
   "cell_type": "code",
   "execution_count": 9,
   "id": "909f097c-207c-4082-ba8c-0f4b2ed6a612",
   "metadata": {},
   "outputs": [
    {
     "name": "stdout",
     "output_type": "stream",
     "text": [
      "True\n",
      "False\n"
     ]
    }
   ],
   "source": [
    "def is_palindrome(text):\n",
    "    length=len(text)\n",
    "    for i in range(0, length//2): #integer division\n",
    "      if(text[i] != text[length-i-1]):\n",
    "          return False\n",
    "    return True\n",
    "string1=\"radar\"\n",
    "print(is_palindrome(string1))\n",
    "string2=\"acceda\"\n",
    "print(is_palindrome(string2))"
   ]
  },
  {
   "cell_type": "markdown",
   "id": "23dde95d-1359-492b-a834-c48bfa96646b",
   "metadata": {},
   "source": [
    "## Explain the concept of list comprehension in Python with at least three examples."
   ]
  },
  {
   "cell_type": "markdown",
   "id": "fb296d1d-0c60-47dc-9969-eb61b4fc203b",
   "metadata": {},
   "source": [
    "List comprehension offers a shorter syntaxt when you want to create a new list based on the values of an existing list\n",
    "In other words, List comprehension lets you create a list in single line of code"
   ]
  },
  {
   "cell_type": "code",
   "execution_count": 14,
   "id": "042c53ee-1542-4e7e-af57-1a258b0af5da",
   "metadata": {},
   "outputs": [
    {
     "name": "stdout",
     "output_type": "stream",
     "text": [
      "[1, 4, 9, 16, 25, 36, 49, 64, 81, 100, 121, 144, 169, 196, 225, 256, 289, 324, 361, 400, 441, 484, 529, 576, 625, 676, 729, 784, 841, 900, 961, 1024, 1089, 1156, 1225, 1296, 1369, 1444, 1521, 1600, 1681, 1764, 1849, 1936, 2025, 2116, 2209, 2304, 2401, 2500, 2601, 2704, 2809, 2916, 3025, 3136, 3249, 3364, 3481, 3600, 3721, 3844, 3969, 4096, 4225, 4356, 4489, 4624, 4761, 4900, 5041, 5184, 5329, 5476, 5625, 5776, 5929, 6084, 6241, 6400, 6561, 6724, 6889, 7056, 7225, 7396, 7569, 7744, 7921, 8100, 8281, 8464, 8649, 8836, 9025, 9216, 9409, 9604, 9801, 10000]\n"
     ]
    }
   ],
   "source": [
    "# Example 1: list of squares\n",
    "squares2=[i**2 for i in range(1,101)]\n",
    "print(squares2)\n"
   ]
  },
  {
   "cell_type": "code",
   "execution_count": 21,
   "id": "00b26d0a-39af-4b97-8168-4718e01edcec",
   "metadata": {},
   "outputs": [
    {
     "name": "stdout",
     "output_type": "stream",
     "text": [
      "['Great Wall', 'Giant slayer', 'Pirates']\n"
     ]
    }
   ],
   "source": [
    "#Example 2: If clause\n",
    "movies =[(\"Great Wall\", 2018), (\"Giant slayer\", 2016), (\"Pirates\", 2008), (\"shooter\", 2019)]\n",
    "\n",
    "pre2k = [title for (title, year) in movies if year< 2019]\n",
    "print(pre2k)"
   ]
  },
  {
   "cell_type": "code",
   "execution_count": 48,
   "id": "f3eb23ee-9295-4b86-b20f-c620f9b35321",
   "metadata": {},
   "outputs": [
    {
     "name": "stdout",
     "output_type": "stream",
     "text": [
      "[8, -12, 4]\n"
     ]
    }
   ],
   "source": [
    "#Example 3: Scalar multiplication\n",
    "#multiply each number in a list for example multiply each item with 4\n",
    "\n",
    "V =[2,-3,1]\n",
    "w=[4*x for x in V]\n",
    "print(w)\n"
   ]
  },
  {
   "cell_type": "markdown",
   "id": "4cc5f120-7945-4338-8c5f-7492f441137a",
   "metadata": {},
   "source": [
    "## Explain what a compound datatype is in Python with three examples."
   ]
  },
  {
   "cell_type": "markdown",
   "id": "85958dd3-b76d-45c6-ada4-2e4e03e5c32b",
   "metadata": {},
   "source": [
    "Compound data types are data types that can store a large number of values\n",
    "They include:\n",
    "- Lists\n",
    "- Tuples\n",
    "- Dictionaries\n",
    "- Sets"
   ]
  },
  {
   "cell_type": "code",
   "execution_count": 54,
   "id": "b659afb3-afad-4b06-b370-d2239ca34e60",
   "metadata": {},
   "outputs": [
    {
     "name": "stdout",
     "output_type": "stream",
     "text": [
      "[1, 'apple', 3.14, True]\n"
     ]
    }
   ],
   "source": [
    "#lists\n",
    "my_list = [1, \"apple\", 3.14, True]\n",
    "print (my_list)"
   ]
  },
  {
   "cell_type": "code",
   "execution_count": 56,
   "id": "1640db69-14b4-461f-9bb6-c858fbc5175a",
   "metadata": {},
   "outputs": [
    {
     "name": "stdout",
     "output_type": "stream",
     "text": [
      "{'name': 'Alice', 'age': 30, 'is_student': False}\n"
     ]
    }
   ],
   "source": [
    "#dictionary\n",
    "my_dict = {\"name\": \"Alice\", \"age\": 30, \"is_student\": False}\n",
    "print(my_dict)"
   ]
  },
  {
   "cell_type": "code",
   "execution_count": 58,
   "id": "d0f7bede-2d33-430e-8085-f830631c200d",
   "metadata": {},
   "outputs": [
    {
     "name": "stdout",
     "output_type": "stream",
     "text": [
      "(10, 'banana', 2.718)\n"
     ]
    }
   ],
   "source": [
    "#tuples\n",
    "my_tuple = (10, \"banana\", 2.718)\n",
    "print(my_tuple)\n"
   ]
  },
  {
   "cell_type": "code",
   "execution_count": 60,
   "id": "d0466766-2c64-48c3-bfbc-f8cbe8830fd4",
   "metadata": {},
   "outputs": [
    {
     "name": "stdout",
     "output_type": "stream",
     "text": [
      "{1, 2, 3, 4}\n"
     ]
    }
   ],
   "source": [
    "#sets\n",
    "my_set = {1, 2, 3, 4}\n",
    "print(my_set)"
   ]
  },
  {
   "cell_type": "markdown",
   "id": "5a38064f-27a0-4c22-83da-1956865f630a",
   "metadata": {},
   "source": [
    "## Write a function that takes a string and returns a list of bigrams."
   ]
  },
  {
   "cell_type": "code",
   "execution_count": 63,
   "id": "abcccc8f-a72f-4c13-a895-b9dc3d2d9631",
   "metadata": {},
   "outputs": [
    {
     "name": "stdout",
     "output_type": "stream",
     "text": [
      "[('This', 'is'), ('is', 'an'), ('an', 'example'), ('example', 'sentence.')]\n"
     ]
    }
   ],
   "source": [
    "def generate_bigrams(text):\n",
    "    words = text.split()\n",
    "    bigrams = [(words[i], words[i + 1]) for i in range(len(words) - 1)]\n",
    "    return bigrams\n",
    "\n",
    "# Example usage:\n",
    "input_string = \"This is an example sentence.\"\n",
    "result = generate_bigrams(input_string)\n",
    "print(result)"
   ]
  },
  {
   "cell_type": "markdown",
   "id": "fef81cf2-fb52-43db-be46-f28dd23709c1",
   "metadata": {},
   "source": [
    "Explanation:\n",
    "- Splitting the String: The input string is split into a list of words using the split() method.\n",
    "- Generating Bigrams: A list comprehension is used to generate bigrams by pairing each word with the next one.\n",
    "- Returning the Bigrams: The resulting list of bigrams is returned."
   ]
  },
  {
   "cell_type": "markdown",
   "id": "38ab0e14-a5a3-48a0-8e1d-24a69c6afc37",
   "metadata": {},
   "source": [
    "## Given a dictionary with keys as letters and values as lists of letters, write a function closest_key to find the key with the input value closest to the beginning of the list."
   ]
  },
  {
   "cell_type": "code",
   "execution_count": 67,
   "id": "1e87a834-b117-4623-b54c-a4f5cda976b9",
   "metadata": {},
   "outputs": [
    {
     "name": "stdout",
     "output_type": "stream",
     "text": [
      "c\n"
     ]
    }
   ],
   "source": [
    "def closest_key(d, value):\n",
    "    closest_key = None\n",
    "    min_index = float('inf')  # Initialize with infinity to ensure any index will be smaller\n",
    "\n",
    "    for key, lst in d.items():\n",
    "        if value in lst:  # Check if the value exists in the current list\n",
    "            index = lst.index(value)  # Find the index of the value in the list\n",
    "            if index < min_index:  # Check if this index is the smallest found so far\n",
    "                min_index = index\n",
    "                closest_key = key\n",
    "\n",
    "    return closest_key\n",
    "d = {\n",
    "    'a': ['x', 'y', 'z'],\n",
    "    'b': ['p', 'y', 'q'],\n",
    "    'c': ['y', 'a', 'x']\n",
    "}\n",
    "\n",
    "result = closest_key(d, 'y')\n",
    "print(result)\n"
   ]
  },
  {
   "cell_type": "code",
   "execution_count": null,
   "id": "3f1f06c9-9583-4771-94fc-6c12640f4579",
   "metadata": {},
   "outputs": [],
   "source": []
  }
 ],
 "metadata": {
  "kernelspec": {
   "display_name": "Python 3 (ipykernel)",
   "language": "python",
   "name": "python3"
  },
  "language_info": {
   "codemirror_mode": {
    "name": "ipython",
    "version": 3
   },
   "file_extension": ".py",
   "mimetype": "text/x-python",
   "name": "python",
   "nbconvert_exporter": "python",
   "pygments_lexer": "ipython3",
   "version": "3.12.4"
  }
 },
 "nbformat": 4,
 "nbformat_minor": 5
}
